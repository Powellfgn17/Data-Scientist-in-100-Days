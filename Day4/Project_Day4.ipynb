{
 "cells": [
  {
   "cell_type": "markdown",
   "metadata": {},
   "source": [
    "<h1> Calculator</h1>\n",
    "Make a calculator with Day4 knowledge, it's a basic calculator and in 1 month i'll able to do a best calculator. Boff it isn't for calculator I'm here 😊"
   ]
  },
  {
   "cell_type": "code",
   "execution_count": 21,
   "metadata": {},
   "outputs": [
    {
     "name": "stdout",
     "output_type": "stream",
     "text": [
      "\n",
      "1 - Addition\n",
      "2 - Moins\n",
      "3 - Mutiplication\n",
      "4 - Division\n"
     ]
    }
   ],
   "source": [
    "class Calculator:\n",
    "\n",
    "    def __init__(self, number1, number2):\n",
    "        self._number1 = number1\n",
    "        self._number2 = number2\n",
    "\n",
    "    def addition(self):\n",
    "        self._result = self._number1 + self._number2\n",
    "        print(self._result)\n",
    "    \n",
    "    def moins(self):\n",
    "        self._result = self._number1 - self._number2\n",
    "        print(self._result)\n",
    "\n",
    "    def multiplication(self):\n",
    "        self._result = self._number1 * self._number2\n",
    "        print(self._result)\n",
    "\n",
    "    def division(self):\n",
    "        self._result = self._number1 / self._number2\n",
    "        print(self._result)\n",
    "\n",
    "text =   \"\"\"\n",
    "1 - Addition\n",
    "2 - Moins\n",
    "3 - Mutiplication\n",
    "4 - Division\"\"\"\n",
    "\n",
    "print(text)"
   ]
  },
  {
   "cell_type": "code",
   "execution_count": 19,
   "metadata": {},
   "outputs": [
    {
     "name": "stdout",
     "output_type": "stream",
     "text": [
      "addition\n",
      "5.0\n",
      "8.0\n"
     ]
    }
   ],
   "source": [
    "operation = str(input(\"Enter the type of operation : \").lower())\n",
    "print(operation)\n",
    "entry1 = float(input(\"Input a number : \"))\n",
    "print(entry1)\n",
    "entry2 = float(input(\"Input a number : \"))\n",
    "print(entry2)\n"
   ]
  },
  {
   "cell_type": "code",
   "execution_count": 20,
   "metadata": {},
   "outputs": [
    {
     "name": "stdout",
     "output_type": "stream",
     "text": [
      "13.0\n"
     ]
    }
   ],
   "source": [
    "calc = Calculator(entry1, entry2)\n",
    "if operation == \"addition\":\n",
    "    calc.addition()\n",
    "elif operation == \"moins\":\n",
    "    calc.moins()\n",
    "elif operation == \"multiplication\":\n",
    "    calc.multiplication()\n",
    "elif operation == \"division\":\n",
    "    calc.division(entry1, entry2)"
   ]
  }
 ],
 "metadata": {
  "kernelspec": {
   "display_name": "Python 3",
   "language": "python",
   "name": "python3"
  },
  "language_info": {
   "codemirror_mode": {
    "name": "ipython",
    "version": 3
   },
   "file_extension": ".py",
   "mimetype": "text/x-python",
   "name": "python",
   "nbconvert_exporter": "python",
   "pygments_lexer": "ipython3",
   "version": "3.12.8"
  }
 },
 "nbformat": 4,
 "nbformat_minor": 2
}
