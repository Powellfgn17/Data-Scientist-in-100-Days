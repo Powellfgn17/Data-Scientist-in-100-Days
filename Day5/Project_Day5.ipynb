{
 "cells": [
  {
   "cell_type": "markdown",
   "metadata": {},
   "source": [
    "Project 5\n",
    "    \n",
    "    -Generate 16x16 dataset of game player performance in PUBG and do statistics, filter then analysis to improve the level in numpy (it's a supposition)"
   ]
  },
  {
   "cell_type": "code",
   "execution_count": 60,
   "metadata": {},
   "outputs": [],
   "source": [
    "import numpy as np"
   ]
  },
  {
   "cell_type": "code",
   "execution_count": 61,
   "metadata": {},
   "outputs": [],
   "source": [
    "np.random.seed(0)\n",
    "\n",
    "data = np.random.randint(0, 20, 256).reshape((16, 16))"
   ]
  },
  {
   "cell_type": "code",
   "execution_count": 62,
   "metadata": {},
   "outputs": [
    {
     "data": {
      "text/plain": [
       "array([[12, 15,  0,  3,  3,  7,  9, 19, 18,  4,  6, 12,  1,  6,  7, 14],\n",
       "       [17,  5, 13,  8,  9, 19, 16, 19,  5, 15, 15,  0, 18,  3, 17, 19],\n",
       "       [19, 19, 14,  7,  0,  1,  9,  0, 10,  3, 11, 18,  2,  0,  0,  4],\n",
       "       [ 5,  6,  8, 17, 15,  4,  9, 10,  1,  1,  7,  9,  3,  6, 11, 14],\n",
       "       [18,  0, 14,  3, 12, 10, 11,  4,  6,  4, 15,  3, 12,  4,  8, 14],\n",
       "       [15,  3, 15, 13, 16, 17,  5,  9,  3,  0,  5,  0, 17, 18,  4,  2],\n",
       "       [16,  3,  2, 10, 13, 16,  7,  9,  0, 10, 18, 11,  2,  2,  3,  3],\n",
       "       [18, 14,  3, 17, 18, 14,  9,  1,  4, 10, 11,  8, 11,  2, 19, 16],\n",
       "       [ 0,  0,  6, 19, 14, 10, 19,  8, 13,  2,  3,  2, 11, 13, 16,  8],\n",
       "       [ 8, 19,  8,  2,  3, 12, 14,  0,  4,  3, 13, 11, 13, 13, 11, 16],\n",
       "       [14, 16, 19,  1,  8,  0,  4,  6, 13,  7, 15,  9, 18,  8, 15, 11],\n",
       "       [ 6, 15,  1, 12,  3, 18, 15,  3, 10, 12,  6,  3,  5, 11,  0, 11],\n",
       "       [ 8, 10, 11,  5, 15,  8,  2, 19, 19, 14,  3,  3,  7,  9,  9,  9],\n",
       "       [ 3, 14, 18, 12,  3,  9, 10, 13,  7,  7,  1, 12,  2,  2,  1,  5],\n",
       "       [ 8,  4,  0, 11,  2,  5, 16,  8,  1, 17, 16,  3,  8,  4, 16,  3],\n",
       "       [ 7,  3, 18, 17,  1, 18, 17,  2,  5,  5, 12, 12,  2, 15,  7,  7]])"
      ]
     },
     "execution_count": 62,
     "metadata": {},
     "output_type": "execute_result"
    }
   ],
   "source": [
    "data"
   ]
  },
  {
   "cell_type": "markdown",
   "metadata": {},
   "source": [
    "Statistics"
   ]
  },
  {
   "cell_type": "code",
   "execution_count": 63,
   "metadata": {},
   "outputs": [
    {
     "data": {
      "text/plain": [
       "array([[ 8.5   ],\n",
       "       [12.375 ],\n",
       "       [ 7.3125],\n",
       "       [ 7.875 ],\n",
       "       [ 8.625 ],\n",
       "       [ 8.875 ],\n",
       "       [ 7.8125],\n",
       "       [10.9375],\n",
       "       [ 9.    ],\n",
       "       [ 9.375 ],\n",
       "       [10.25  ],\n",
       "       [ 8.1875],\n",
       "       [ 9.4375],\n",
       "       [ 7.4375],\n",
       "       [ 7.625 ],\n",
       "       [ 9.25  ]])"
      ]
     },
     "execution_count": 63,
     "metadata": {},
     "output_type": "execute_result"
    }
   ],
   "source": [
    "average = data.mean(axis=1)\n",
    "average = average.reshape((data.shape[1], 1))\n",
    "average"
   ]
  },
  {
   "cell_type": "code",
   "execution_count": 64,
   "metadata": {},
   "outputs": [
    {
     "data": {
      "text/plain": [
       "array([0, 0, 0, 1, 0, 0, 0, 1, 0, 0, 0, 0, 2, 1, 0, 1])"
      ]
     },
     "execution_count": 64,
     "metadata": {},
     "output_type": "execute_result"
    }
   ],
   "source": [
    "min = np.min(data, axis = 1)\n",
    "min"
   ]
  },
  {
   "cell_type": "code",
   "execution_count": 65,
   "metadata": {},
   "outputs": [
    {
     "data": {
      "text/plain": [
       "array([19, 19, 19, 17, 18, 18, 18, 19, 19, 19, 19, 18, 19, 18, 17, 18])"
      ]
     },
     "execution_count": 65,
     "metadata": {},
     "output_type": "execute_result"
    }
   ],
   "source": [
    "max = np.max(data, axis = 1)\n",
    "max"
   ]
  },
  {
   "cell_type": "code",
   "execution_count": 66,
   "metadata": {},
   "outputs": [
    {
     "data": {
      "text/plain": [
       "array([ 7. , 15. ,  5.5,  7.5,  9. ,  7. ,  8. , 11. ,  9. , 11. , 10. ,\n",
       "        8. ,  9. ,  7. ,  6.5,  7. ])"
      ]
     },
     "execution_count": 66,
     "metadata": {},
     "output_type": "execute_result"
    }
   ],
   "source": [
    "median = np.median(data, axis= 1)\n",
    "median"
   ]
  },
  {
   "cell_type": "markdown",
   "metadata": {},
   "source": [
    "Filtering"
   ]
  },
  {
   "cell_type": "code",
   "execution_count": 67,
   "metadata": {},
   "outputs": [
    {
     "data": {
      "text/plain": [
       "[array([0, 3, 3, 7, 4, 6, 1, 6, 7]),\n",
       " array([5, 8, 9, 5, 0, 3]),\n",
       " array([7, 0, 1, 0, 3, 2, 0, 0, 4]),\n",
       " array([5, 6, 4, 1, 1, 7, 3, 6]),\n",
       " array([0, 3, 4, 6, 4, 3, 4, 8]),\n",
       " array([3, 5, 3, 0, 5, 0, 4, 2]),\n",
       " array([3, 2, 7, 0, 2, 2, 3, 3]),\n",
       " array([ 3,  9,  1,  4, 10,  8,  2]),\n",
       " array([0, 0, 6, 8, 2, 3, 2, 8]),\n",
       " array([8, 8, 2, 3, 0, 4, 3]),\n",
       " array([1, 8, 0, 4, 6, 7, 9, 8]),\n",
       " array([6, 1, 3, 3, 6, 3, 5, 0]),\n",
       " array([8, 5, 8, 2, 3, 3, 7, 9, 9, 9]),\n",
       " array([3, 3, 7, 7, 1, 2, 2, 1, 5]),\n",
       " array([4, 0, 2, 5, 1, 3, 4, 3]),\n",
       " array([7, 3, 1, 2, 5, 5, 2, 7, 7])]"
      ]
     },
     "execution_count": 67,
     "metadata": {},
     "output_type": "execute_result"
    }
   ],
   "source": [
    "data_low, data_high = [], []\n",
    "for i in range(0, data.shape[1]):\n",
    "    data_ilow = data[i, :][data[i, :] < average[i, :]]\n",
    "    data_ihigh = data[i, :][data[i, :] > average[i, :]]\n",
    "    data_low.append(data_ilow)\n",
    "    data_high.append(data_ihigh)\n",
    "\n",
    "data_low"
   ]
  },
  {
   "cell_type": "code",
   "execution_count": 68,
   "metadata": {},
   "outputs": [
    {
     "data": {
      "text/plain": [
       "[array([12, 15,  9, 19, 18, 12, 14]),\n",
       " array([17, 13, 19, 16, 19, 15, 15, 18, 17, 19]),\n",
       " array([19, 19, 14,  9, 10, 11, 18]),\n",
       " array([ 8, 17, 15,  9, 10,  9, 11, 14]),\n",
       " array([18, 14, 12, 10, 11, 15, 12, 14]),\n",
       " array([15, 15, 13, 16, 17,  9, 17, 18]),\n",
       " array([16, 10, 13, 16,  9, 10, 18, 11]),\n",
       " array([18, 14, 17, 18, 14, 11, 11, 19, 16]),\n",
       " array([19, 14, 10, 19, 13, 11, 13, 16]),\n",
       " array([19, 12, 14, 13, 11, 13, 13, 11, 16]),\n",
       " array([14, 16, 19, 13, 15, 18, 15, 11]),\n",
       " array([15, 12, 18, 15, 10, 12, 11, 11]),\n",
       " array([10, 11, 15, 19, 19, 14]),\n",
       " array([14, 18, 12,  9, 10, 13, 12]),\n",
       " array([ 8, 11, 16,  8, 17, 16,  8, 16]),\n",
       " array([18, 17, 18, 17, 12, 12, 15])]"
      ]
     },
     "execution_count": 68,
     "metadata": {},
     "output_type": "execute_result"
    }
   ],
   "source": [
    "data_high"
   ]
  },
  {
   "cell_type": "markdown",
   "metadata": {},
   "source": [
    "Analysis"
   ]
  },
  {
   "cell_type": "code",
   "execution_count": 69,
   "metadata": {},
   "outputs": [
    {
     "name": "stdout",
     "output_type": "stream",
     "text": [
      "Low values in row 0: mean :4.111111111111111, min: 0, max: 7\n",
      "Low values in row 1: mean :5.0, min: 0, max: 9\n",
      "Low values in row 2: mean :1.8888888888888888, min: 0, max: 7\n",
      "Low values in row 3: mean :4.125, min: 1, max: 7\n",
      "Low values in row 4: mean :4.0, min: 0, max: 8\n",
      "Low values in row 5: mean :2.75, min: 0, max: 5\n",
      "Low values in row 6: mean :2.75, min: 0, max: 7\n",
      "Low values in row 7: mean :5.285714285714286, min: 1, max: 10\n",
      "Low values in row 8: mean :3.625, min: 0, max: 8\n",
      "Low values in row 9: mean :4.0, min: 0, max: 8\n",
      "Low values in row 10: mean :5.375, min: 0, max: 9\n",
      "Low values in row 11: mean :3.375, min: 0, max: 6\n",
      "Low values in row 12: mean :6.3, min: 2, max: 9\n",
      "Low values in row 13: mean :3.4444444444444446, min: 1, max: 7\n",
      "Low values in row 14: mean :2.75, min: 0, max: 5\n",
      "Low values in row 15: mean :4.333333333333333, min: 1, max: 7\n"
     ]
    }
   ],
   "source": [
    "for index, value in enumerate(data_low):\n",
    "    print(f'Low values in row {index}: mean :{value.mean()}, min: {value.min()}, max: {value.max()}')"
   ]
  },
  {
   "cell_type": "code",
   "execution_count": 70,
   "metadata": {},
   "outputs": [
    {
     "name": "stdout",
     "output_type": "stream",
     "text": [
      "Low values in row 0: mean :14.142857142857142, min: 9, max: 19\n",
      "Low values in row 1: mean :16.8, min: 13, max: 19\n",
      "Low values in row 2: mean :14.285714285714286, min: 9, max: 19\n",
      "Low values in row 3: mean :11.625, min: 8, max: 17\n",
      "Low values in row 4: mean :13.25, min: 10, max: 18\n",
      "Low values in row 5: mean :15.0, min: 9, max: 18\n",
      "Low values in row 6: mean :12.875, min: 9, max: 18\n",
      "Low values in row 7: mean :15.333333333333334, min: 11, max: 19\n",
      "Low values in row 8: mean :14.375, min: 10, max: 19\n",
      "Low values in row 9: mean :13.555555555555555, min: 11, max: 19\n",
      "Low values in row 10: mean :15.125, min: 11, max: 19\n",
      "Low values in row 11: mean :13.0, min: 10, max: 18\n",
      "Low values in row 12: mean :14.666666666666666, min: 10, max: 19\n",
      "Low values in row 13: mean :12.571428571428571, min: 9, max: 18\n",
      "Low values in row 14: mean :12.5, min: 8, max: 17\n",
      "Low values in row 15: mean :15.571428571428571, min: 12, max: 18\n"
     ]
    }
   ],
   "source": [
    "for index_high, value_high in enumerate(data_high):\n",
    "    print(f'Low values in row {index_high}: mean :{value_high.mean()}, min: {value_high.min()}, max: {value_high.max()}')"
   ]
  },
  {
   "cell_type": "code",
   "execution_count": null,
   "metadata": {},
   "outputs": [],
   "source": []
  }
 ],
 "metadata": {
  "kernelspec": {
   "display_name": "Python 3",
   "language": "python",
   "name": "python3"
  },
  "language_info": {
   "codemirror_mode": {
    "name": "ipython",
    "version": 3
   },
   "file_extension": ".py",
   "mimetype": "text/x-python",
   "name": "python",
   "nbconvert_exporter": "python",
   "pygments_lexer": "ipython3",
   "version": "3.12.8"
  }
 },
 "nbformat": 4,
 "nbformat_minor": 2
}
