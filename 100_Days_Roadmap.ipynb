{
 "cells": [
  {
   "cell_type": "markdown",
   "metadata": {},
   "source": [
    "<h1>My 100 Days Roadmap to become Data Scientist.</h1>\n"
   ]
  },
  {
   "cell_type": "markdown",
   "metadata": {},
   "source": [
    "This plan is designed to help you master essential Data Science skills and become a freelancer. By the end of the 100 days, I should be ready to accept freelance assignments on platforms like Upwork."
   ]
  },
  {
   "cell_type": "markdown",
   "metadata": {},
   "source": [
    "<h3>📅 Days 1-30: Foundation Building</h3>  \n",
    "Durant cette période, je travaillerai uniquement sur un cours de Coursera : IBM Data Science Professional Certificate qui comprend 12 modules que je dois terminer et maîtriser en un temps records d'un mois 😱. J'avoue que c'est chaud. Mon plan de cette période avec le programme de 🚀IBM Data Science Professional Certificate sera subdiviser en 6 modules pours chaque deux semaines pour terminer les 30 jours et obtenir mon certificat. Je vous donne les détailes ci-dessous :"
   ]
  },
  {
   "cell_type": "markdown",
   "metadata": {},
   "source": [
    "    Week 1-2 (Days 1-14): Data Science, Tools, Methodology, Python, AI & Development, Databases, SQL, Project.\n",
    "        Comment ça marche ?\n",
    "        19h30 - 20h30 : Théorie et apprentissage des concepts\n",
    "\n",
    "        20h30 - 22h00 : Pratique sur un projet\n",
    "\n",
    "        22h00 - 23h30 : Suivi, révision et documentation\n",
    "\n",
    "        23h30 - 00h30 : Recherche et veille technologique\n",
    "\n",
    "            Day 1: What is Data Science ? : Model Selection, Data Analysis\n",
    "            Day 2: What is Data Science ? : Python Programming 1, Data Visualization, Predictive Modelling\n",
    "            Day 3: Tools for Data Science Part 1 : Python Programming 2, Github\n",
    "            Day 4: Tools for Data Science Part 3 : Rstudio, Jupyter notebooks\n",
    "            Day 5: Data Science Methodology : Data Analysis, Python Programming 3(Numpy, Pandas)\n",
    "            Day 6: Python for Dat Science, AI & Development : Python Progeramming 4\n",
    "            Day 7: Python for Dat Science, AI & Development : Dashboards and charts, dash\n",
    "            Day 8: Python for Data Science, AI & Development : Data Visualization & Matplolib\n",
    "            Day 9: Project Python for Data Science : Github, Jupyter Notebook, K-Means Clustering\n",
    "            Day 10: Project Python for Data Science : Methodology, Data Science Methodology\n",
    "            Day 11: Databases and SQL for Data Science with Python : Python Programming 5\n",
    "            Day 12: Databases and SQL for Data Science with Python : Cloud Databases\n",
    "            Day 13: Databases and SQL for Data Science with Python : Relational Database Management System (RDBMS), SQL\n",
    "            Day 14: Databases and SQL for Data Science with Python : Jupyter notebooks & project(3h).\n",
    "\n",
    "\n",
    "\n",
    "            \n",
    "\n"
   ]
  },
  {
   "cell_type": "markdown",
   "metadata": {},
   "source": []
  },
  {
   "cell_type": "markdown",
   "metadata": {},
   "source": [
    "🚀 Plan d’Action pour Atteindre 100 $/Jour sur Upwork en 100 Jours\n",
    "\n",
    "Objectif : Devenir freelance en Data Science & IA et atteindre 100 $/jour en 100 jours.\n",
    "\n",
    "\n",
    "---\n",
    "\n",
    "Phase 1 : Acquisition des Compétences (Jours 1-40)\n",
    "\n",
    "🔹 (Semaine 1-2) : Analyse de Données & SQL\n",
    "✅ Apprends pandas, NumPy, matplotlib, seaborn\n",
    "✅ Maîtrise SQL (PostgreSQL, MySQL, BigQuery)\n",
    "🎯 Objectif : Savoir analyser et visualiser des données propres à un client\n",
    "\n",
    "🔹 (Semaine 3-4) : Web Scraping & Automatisation\n",
    "✅ Apprends BeautifulSoup, Scrapy, Selenium\n",
    "✅ Travaille sur des projets : scraping d’annonces, d’articles, etc.\n",
    "🎯 Objectif : Être capable de récupérer des données web pour un client\n",
    "\n",
    "🔹 (Semaine 5-6) : Machine Learning & API Backend\n",
    "✅ Apprends scikit-learn, TensorFlow, FastAPI, Flask\n",
    "✅ Implémente des modèles ML et expose-les en API\n",
    "🎯 Objectif : Pouvoir proposer du ML en SaaS\n",
    "\n",
    "\n",
    "---\n",
    "\n",
    "Phase 2 : Projets & Portfolio (Jours 41-70)\n",
    "\n",
    "🔹 (Semaine 7-8) : Création de 3 Projets Freelance-Friendly\n",
    "✅ Projet 1 : Analyse de données (ex : tendances de ventes)\n",
    "✅ Projet 2 : Scraping + Dashboard (ex : prix sur Amazon)\n",
    "✅ Projet 3 : ML appliqué (ex : prédiction des prix immobiliers)\n",
    "🎯 Objectif : Avoir un portfolio visible sur GitHub + un site perso\n",
    "\n",
    "🔹 (Semaine 9-10) : Optimisation & Cloud (Bonus)\n",
    "✅ Déploie tes projets sur Streamlit, FastAPI, AWS/GCP\n",
    "✅ Apprends Docker pour le freelancing pro\n",
    "🎯 Objectif : Augmenter la valeur de tes services\n",
    "\n",
    "\n",
    "---\n",
    "\n",
    "Phase 3 : Freelance & Upwork (Jours 71-100)\n",
    "\n",
    "🔹 (Semaine 11-12) : Création de ton profil Upwork/Fiverr\n",
    "✅ Rédige une description optimisée SEO\n",
    "✅ Ajoute tes projets avec des screenshots & explications\n",
    "🎯 Objectif : Avoir un profil professionnel & attractif\n",
    "\n",
    "🔹 (Semaine 13-14) : Trouver ses Premiers Clients\n",
    "✅ Applique à 10 offres par jour\n",
    "✅ Offre 5-10 missions à petit prix (10-30 $) pour obtenir des reviews\n",
    "🎯 Objectif : Gagner 5 étoiles et commencer à monter tes tarifs\n",
    "\n",
    "\n",
    "---\n",
    "\n",
    "🎯 Stratégie pour atteindre 100 $/jour\n",
    "\n",
    "✅ Jour 1-40 → Compétences solides\n",
    "✅ Jour 41-70 → Portfolio & visibilité\n",
    "✅ Jour 71-100 → Clients & montée en gamme\n",
    "\n",
    "Après 3-5 missions réussies, tu pourras passer à 50 $/h et atteindre 100 $/jour en 2h 🚀.\n",
    "\n",
    "\n",
    "---"
   ]
  },
  {
   "cell_type": "markdown",
   "metadata": {},
   "source": []
  },
  {
   "cell_type": "markdown",
   "metadata": {},
   "source": []
  },
  {
   "cell_type": "markdown",
   "metadata": {},
   "source": []
  }
 ],
 "metadata": {
  "language_info": {
   "name": "python"
  }
 },
 "nbformat": 4,
 "nbformat_minor": 2
}
